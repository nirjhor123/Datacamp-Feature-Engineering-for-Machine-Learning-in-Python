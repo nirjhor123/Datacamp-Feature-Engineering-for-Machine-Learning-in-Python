{
  "nbformat": 4,
  "nbformat_minor": 0,
  "metadata": {
    "colab": {
      "provenance": [],
      "authorship_tag": "ABX9TyN5LGL5oCoJANoqaZpAFBta",
      "include_colab_link": true
    },
    "kernelspec": {
      "name": "python3",
      "display_name": "Python 3"
    },
    "language_info": {
      "name": "python"
    }
  },
  "cells": [
    {
      "cell_type": "markdown",
      "metadata": {
        "id": "view-in-github",
        "colab_type": "text"
      },
      "source": [
        "<a href=\"https://colab.research.google.com/github/nirjhor123/Datacamp-Feature-Engineering-for-Machine-Learning-in-Python/blob/master/Creating_Features.ipynb\" target=\"_parent\"><img src=\"https://colab.research.google.com/assets/colab-badge.svg\" alt=\"Open In Colab\"/></a>"
      ]
    },
    {
      "cell_type": "code",
      "execution_count": null,
      "metadata": {
        "id": "XrVe2ECWsNIf"
      },
      "outputs": [],
      "source": []
    },
    {
      "cell_type": "markdown",
      "source": [
        "\n",
        "\n",
        "\n",
        " **Creating Features**\n",
        "\n",
        "\n"
      ],
      "metadata": {
        "id": "nqvWmtmlsSw7"
      }
    },
    {
      "cell_type": "markdown",
      "source": [
        "\n",
        "\n",
        "```\n",
        "Getting to know your data\n",
        "```\n",
        "\n"
      ],
      "metadata": {
        "id": "H-tpdCZgs23p"
      }
    },
    {
      "cell_type": "code",
      "source": [
        "# Import pandas\n",
        "import pandas as pd\n",
        "\n",
        "# Import so_survey_csv into so_survey_df\n",
        "so_survey_df = pd.read_csv(so_survey_csv)\n",
        "\n",
        "# Print the first five rows of the DataFrame\n",
        "print(so_survey_df.head())\n",
        "\n",
        "# Print the data type of each column\n",
        "print(so_survey_df.dtypes)"
      ],
      "metadata": {
        "id": "kgmoJWMKsY54"
      },
      "execution_count": null,
      "outputs": []
    },
    {
      "cell_type": "markdown",
      "source": [
        "\n",
        "\n",
        "```\n",
        "Question\n",
        "\n",
        "What type of data is the ConvertedSalary column?\n",
        "Numeric\n",
        "```\n",
        "\n"
      ],
      "metadata": {
        "id": "ynEeoLbGtGxi"
      }
    },
    {
      "cell_type": "markdown",
      "source": [
        "**Getting to know your data**"
      ],
      "metadata": {
        "id": "rV1V2WGntOWi"
      }
    },
    {
      "cell_type": "code",
      "source": [],
      "metadata": {
        "id": "1QxUdrHuupac"
      },
      "execution_count": null,
      "outputs": []
    }
  ]
}